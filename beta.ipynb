{
 "cells": [
  {
   "cell_type": "markdown",
   "id": "e558e089",
   "metadata": {},
   "source": [
    "**Dados**\n",
    "<p>Essa é a parte que pode ser alterada para testar outras estratégias de chunking"
   ]
  },
  {
   "cell_type": "code",
   "execution_count": 1,
   "id": "4486adbe-0d0e-4685-8c08-c1774ed6e993",
   "metadata": {},
   "outputs": [],
   "source": [
    "import pandas as pd\n",
    "#carrega o csv com os dados pré-processados\n",
    "data = pd.read_csv(\"./dataset_preprocessed.csv\")\n",
    "\n",
    "#cria nova lista onde cada elemento é um chunk contendo o nome e a review\n",
    "new_data = []\n",
    "for index, row in data.iterrows():\n",
    "    result = \"item \" + str(index) + \": \" + str(row.product_name) + \". review: \" + str(row.review_text)\n",
    "    new_data.append(result)\n",
    "\n"
   ]
  },
  {
   "cell_type": "markdown",
   "id": "229ba3e1",
   "metadata": {},
   "source": [
    "**Embedding**"
   ]
  },
  {
   "cell_type": "code",
   "execution_count": null,
   "id": "4166fc84",
   "metadata": {},
   "outputs": [],
   "source": [
    "from sentence_transformers import SentenceTransformer\n",
    "\n",
    "#carrega o modelo pré-treinado \n",
    "model = SentenceTransformer('all-MiniLM-L6-v2')\n",
    "\n",
    "#transforma cada pedaço de texto em vetores\n",
    "embeddings = model.encode(new_data)\n"
   ]
  },
  {
   "cell_type": "markdown",
   "id": "257fcce6",
   "metadata": {},
   "source": [
    "**BD Vetorial**"
   ]
  },
  {
   "cell_type": "code",
   "execution_count": null,
   "id": "55460de1",
   "metadata": {},
   "outputs": [],
   "source": [
    "import chromadb\n",
    "#cria o banco de dados vetorial\n",
    "client = chromadb.Client()\n",
    "collection = client.get_or_create_collection(\"mini_collection\")"
   ]
  },
  {
   "cell_type": "code",
   "execution_count": 4,
   "id": "c48abc62",
   "metadata": {},
   "outputs": [],
   "source": [
    "#salva os vetores no bd criado no passo anterior\n",
    "collection.add(\n",
    "    documents=new_data,  # textos\n",
    "    embeddings=embeddings,  # vetores correspondentes a cada texto\n",
    "    ids=[str(i) for i in range(len(new_data))]  # cria IDs pra cada registro\n",
    "    )\n"
   ]
  },
  {
   "cell_type": "markdown",
   "id": "11ad9e45",
   "metadata": {},
   "source": [
    "**Prompt**"
   ]
  },
  {
   "cell_type": "code",
   "execution_count": 5,
   "id": "e990cbba",
   "metadata": {},
   "outputs": [],
   "source": [
    "#pergunta do usuário\n",
    "query = input(\"Digite a pergunta:\")\n",
    "\n",
    "#vetoriza a pergunta do usuário (query)\n",
    "query_embedding = model.encode([query])\n",
    "\n",
    "#faz uma busca semântica no bd vetorizado comparando os vetores da pergunta com os vetores dos dados, recupera 4 resultados \n",
    "results = collection.query(query_embeddings=query_embedding, n_results=4)\n",
    "\n",
    "#seleciona apenas os textos dos resultados \n",
    "retrieved_docs = results['documents']\n",
    "\n",
    "#junta os resultados em um texto só e forma o \"contexto\" da resposta\n",
    "context = \"\\n\".join(retrieved_docs[0])\n",
    "\n",
    "#formar o prompt, passando o contexto (dados recuperados) e a pergunta \n",
    "prompt = f\"Context: {context}\\n\\nUser Question: {query}\\n\\nAnswer:\"\n"
   ]
  },
  {
   "cell_type": "markdown",
   "id": "304aaf50",
   "metadata": {},
   "source": [
    "**Geração de resposta**"
   ]
  },
  {
   "cell_type": "code",
   "execution_count": 6,
   "id": "1afa4188",
   "metadata": {},
   "outputs": [],
   "source": [
    "import google.generativeai as genai\n",
    "import os\n",
    "from dotenv import load_dotenv\n",
    "\n",
    "# Carrega as variáveis de ambiente do arquivo .env\n",
    "load_dotenv()\n",
    "\n",
    "#configurar a api com a chave (cada usuário deve ter uma, salvar como variável de ambiente)\n",
    "#a chave é obtida em https://ai.google.dev/gemini-api/docs/api-key?hl=pt-br\n",
    "genai.configure(api_key=os.getenv(\"API_KEY\"))"
   ]
  },
  {
   "cell_type": "code",
   "execution_count": null,
   "id": "0d471d70",
   "metadata": {},
   "outputs": [],
   "source": [
    "#carrega o modelo que vai interpretar o prompt\n",
    "model = genai.GenerativeModel(\"gemini-1.5-flash\")\n",
    "\n",
    "#passa o prompt pra gerar a resposta\n",
    "response = model.generate_content(prompt)\n",
    "\n",
    "#imprime a resposta gerada\n",
    "print(response.text)"
   ]
  }
 ],
 "metadata": {
  "kernelspec": {
   "display_name": "Python 3",
   "language": "python",
   "name": "python3"
  },
  "language_info": {
   "codemirror_mode": {
    "name": "ipython",
    "version": 3
   },
   "file_extension": ".py",
   "mimetype": "text/x-python",
   "name": "python",
   "nbconvert_exporter": "python",
   "pygments_lexer": "ipython3",
   "version": "3.12.5"
  }
 },
 "nbformat": 4,
 "nbformat_minor": 5
}
