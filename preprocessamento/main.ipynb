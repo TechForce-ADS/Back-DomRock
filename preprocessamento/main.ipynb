{
 "cells": [
  {
   "cell_type": "code",
   "execution_count": 2,
   "metadata": {},
   "outputs": [
    {
     "name": "stderr",
     "output_type": "stream",
     "text": [
      "c:\\Users\\Pedro\\Documents\\GitHub\\Back-DomRock\\Back-DomRock\\Back-DomRock\\ambvirtual\\Lib\\site-packages\\tqdm\\auto.py:21: TqdmWarning: IProgress not found. Please update jupyter and ipywidgets. See https://ipywidgets.readthedocs.io/en/stable/user_install.html\n",
      "  from .autonotebook import tqdm as notebook_tqdm\n",
      "[nltk_data] Downloading package punkt_tab to\n",
      "[nltk_data]     C:\\Users\\Pedro\\AppData\\Roaming\\nltk_data...\n",
      "[nltk_data]   Package punkt_tab is already up-to-date!\n",
      "[nltk_data] Downloading package stopwords to\n",
      "[nltk_data]     C:\\Users\\Pedro\\AppData\\Roaming\\nltk_data...\n",
      "[nltk_data]   Package stopwords is already up-to-date!\n"
     ]
    }
   ],
   "source": [
    "import pandas as pd\n",
    "from datasets import load_dataset\n",
    "import nltk\n",
    "from nltk.corpus import stopwords\n",
    "from nltk.tokenize import word_tokenize\n",
    "nltk.download('punkt_tab')\n",
    "import unicodedata\n",
    "import string\n",
    "from tokenizers import ByteLevelBPETokenizer\n",
    "nltk.download('stopwords')\n",
    "from sklearn.model_selection import train_test_split\n",
    "import matplotlib.pyplot as plt"
   ]
  },
  {
   "cell_type": "markdown",
   "metadata": {},
   "source": [
    "Carregando e lendo o datasets:"
   ]
  },
  {
   "cell_type": "code",
   "execution_count": 2,
   "metadata": {},
   "outputs": [],
   "source": [
    "dataset = load_dataset(\"ruanchaves/b2w-reviews01\", split='train')\n",
    "df = pd.DataFrame(dataset)\n",
    "df.to_csv('./datasets/dataset.csv', index=False)\n"
   ]
  },
  {
   "cell_type": "code",
   "execution_count": null,
   "metadata": {},
   "outputs": [],
   "source": [
    "df.head()"
   ]
  },
  {
   "cell_type": "markdown",
   "metadata": {},
   "source": [
    "Extraindo apenas as colunas que serão utilizadas: reviewer_id', 'product_name', 'recommend_to_a_friend', 'review_text'"
   ]
  },
  {
   "cell_type": "code",
   "execution_count": 7,
   "metadata": {},
   "outputs": [
    {
     "name": "stderr",
     "output_type": "stream",
     "text": [
      "C:\\Users\\Pedro\\AppData\\Local\\Temp\\ipykernel_10080\\3566867852.py:4: DtypeWarning: Columns (2) have mixed types. Specify dtype option on import or set low_memory=False.\n",
      "  df = pd.read_csv(arquivo_entrada)\n"
     ]
    }
   ],
   "source": [
    "import pandas as pd\n",
    "\n",
    "def extrair_coluna(arquivo_entrada, colunas_desejadas, arquivo_saida):\n",
    "    df = pd.read_csv(arquivo_entrada)\n",
    "\n",
    "    # Adiciona \"Nota:\" antes das notas\n",
    "    df['overall_rating'] = df['overall_rating'].apply(lambda x: f'Nota: {x}')\n",
    "\n",
    "    # Extrai as colunas desejadas\n",
    "    dados_coluna = df[colunas_desejadas]\n",
    "\n",
    "    # Salva os dados em um novo arquivo CSV\n",
    "    dados_coluna.to_csv(arquivo_saida, index=False)\n",
    "\n",
    "arquivo_entrada = \"./datasets/dataset.csv\"\n",
    "colunas_desejadas = ['product_name', 'overall_rating', 'site_category_lv1', 'site_category_lv2', 'review_text']\n",
    "novo_arquivo = \"./datasets/dataset_reduzido.csv\"\n",
    "\n",
    "extrair_coluna(arquivo_entrada, colunas_desejadas, novo_arquivo)\n"
   ]
  },
  {
   "cell_type": "markdown",
   "metadata": {},
   "source": [
    "Prepocessamento:"
   ]
  },
  {
   "cell_type": "code",
   "execution_count": 4,
   "metadata": {},
   "outputs": [],
   "source": [
    "arquivo_entrada = \"./datasets/dataset_reduzido.csv\"\n",
    "df = pd.read_csv(arquivo_entrada)\n",
    "\n",
    "def preprocess_text(text):\n",
    "    # Convertendo letras maiúculas para minúsculas.\n",
    "    text = text.lower()\n",
    "    \n",
    "    # Removendo acentos.\n",
    "    text = ''.join(\n",
    "        char for char in unicodedata.normalize('NFD', text)\n",
    "        if unicodedata.category(char) != 'Mn'\n",
    "    )\n",
    "    # Removendo pontuações.\n",
    "    text = text.translate(str.maketrans('', '', string.punctuation))\n",
    "    \n",
    "    # Removendo stopwords\n",
    "    text = ' '.join([word for word in text.split() if word not in stop_words])\n",
    "    \n",
    "    return text\n",
    "\n",
    "\n",
    "stop_words = set(stopwords.words('portuguese'))\n",
    "# Lista de colunas que serão pré-processadas\n",
    "colunas_texto = ['product_name', 'overall_rating', 'site_category_lv1', 'site_category_lv2', 'review_text']\n",
    "\n",
    "\n",
    "# Aplicando o pré-processamento em cada coluna de texto\n",
    "for coluna in colunas_texto:\n",
    "    df[coluna] = df[coluna].apply(lambda x: preprocess_text(str(x)))\n",
    "\n",
    "# Salvando o DataFrame pré-processado em um novo arquivo CSV\n",
    "df.to_csv('./datasets/dataset_preprocessed.csv', index=False)"
   ]
  },
  {
   "cell_type": "code",
   "execution_count": null,
   "metadata": {},
   "outputs": [],
   "source": [
    "df = pd.read_csv('./datasets/dataset_preprocessed.csv')\n",
    "\n",
    "# Obter os valores e contagem\n",
    "values = df['overall_rating'].value_counts()\n",
    "\n",
    "# Criar o gráfico de barras\n",
    "plt.figure(figsize=(10, 6))\n",
    "plt.bar(values.index, values.values)\n",
    "\n",
    "# Configurar os labels e título\n",
    "plt.xlabel('Rating')\n",
    "plt.ylabel('Contagem')\n",
    "plt.title('Distribuição de Recomendações')\n",
    "\n",
    "# Exibir o gráfico\n",
    "plt.show()"
   ]
  },
  {
   "cell_type": "code",
   "execution_count": 1,
   "metadata": {},
   "outputs": [],
   "source": [
    "import pandas as pd\n",
    "arquivo_entrada = \"./datasets/dataset_amostra.csv\"\n",
    "novo_arquivo = \"./datasets/dataset_preprocessed.csv\"\n",
    "\n",
    "def extrair_coluna_e_agrupar(arquivo_entrada, arquivo_saida):\n",
    "    df = pd.read_csv(arquivo_entrada)\n",
    "\n",
    "    # Remove entradas com valores nulos em colunas relevantes\n",
    "    df = df.dropna(subset=['product_name', 'overall_rating', 'site_category_lv1', 'site_category_lv2', 'review_text','reviewer_gender','reviewer_state'])\n",
    "\n",
    "    # Adiciona \"Nota:\" antes das notas\n",
    "    df['overall_rating'] = df['overall_rating'].apply(lambda x: f'Nota: {x}')\n",
    "\n",
    "    # Agrupa os produtos pelo nome e concatena as notas e reviews\n",
    "    dados_agregados = df.groupby('product_name').agg({\n",
    "        'overall_rating': 'first',\n",
    "        'site_category_lv1': 'first',\n",
    "        'site_category_lv2': 'first',\n",
    "        'reviewer_gender': 'first',\n",
    "        'reviewer_state': 'first',\n",
    "        'review_text': lambda x: ' | '.join(x)\n",
    "    }).reset_index()\n",
    "\n",
    "    # Salva os dados agrupados em um novo arquivo CSV\n",
    "    dados_agregados.to_csv(arquivo_saida, index=False)\n",
    "\n",
    "extrair_coluna_e_agrupar(arquivo_entrada, novo_arquivo)\n"
   ]
  },
  {
   "cell_type": "markdown",
   "metadata": {},
   "source": [
    "Extrair DATASET para testes:\n"
   ]
  },
  {
   "cell_type": "code",
   "execution_count": 19,
   "metadata": {},
   "outputs": [],
   "source": [
    "import pandas as pd\n",
    "\n",
    "arquivo_entrada = \"./datasets/dataset_preprocessed.csv\"\n",
    "novo_arquivo = \"./datasets/dataset_amostra.csv\"\n",
    "porcentagem_amostra = 0.2  # 20%\n",
    "\n",
    "def reduzir_amostra(arquivo_entrada, arquivo_saida, porcentagem_amostra):\n",
    "    df = pd.read_csv(arquivo_entrada)\n",
    "\n",
    "    # Seleciona uma amostra aleatória de 20% das linhas\n",
    "    amostra = df.sample(frac=porcentagem_amostra, random_state=42)  # random_state para reprodutibilidade\n",
    "\n",
    "    # Salva a amostra em um novo arquivo CSV\n",
    "    amostra.to_csv(arquivo_saida, index=False)\n",
    "\n",
    "reduzir_amostra(arquivo_entrada, novo_arquivo, porcentagem_amostra)\n"
   ]
  },
  {
   "cell_type": "markdown",
   "metadata": {},
   "source": [
    "Fazendo um CSV com a coluna do Sexo e Região para testes"
   ]
  },
  {
   "cell_type": "code",
   "execution_count": 17,
   "metadata": {},
   "outputs": [
    {
     "name": "stderr",
     "output_type": "stream",
     "text": [
      "C:\\Users\\Pedro\\AppData\\Local\\Temp\\ipykernel_10868\\1329039899.py:4: DtypeWarning: Columns (2) have mixed types. Specify dtype option on import or set low_memory=False.\n",
      "  df = pd.read_csv(arquivo_entrada)\n"
     ]
    }
   ],
   "source": [
    "import pandas as pd\n",
    "\n",
    "def extrair_coluna(arquivo_entrada, colunas_desejadas, arquivo_saida):\n",
    "    df = pd.read_csv(arquivo_entrada)\n",
    "\n",
    "    # Adiciona \"Nota:\" antes das notas\n",
    "    df['overall_rating'] = df['overall_rating'].apply(lambda x: f'Nota: {x}')\n",
    "\n",
    "    # Extrai as colunas desejadas\n",
    "    dados_coluna = df[colunas_desejadas]\n",
    "\n",
    "    # Salva os dados em um novo arquivo CSV\n",
    "    dados_coluna.to_csv(arquivo_saida, index=False)\n",
    "\n",
    "arquivo_entrada = \"./datasets/dataset.csv\"\n",
    "colunas_desejadas = ['product_name', 'overall_rating', 'site_category_lv1', 'site_category_lv2', 'review_text','reviewer_gender','reviewer_state']\n",
    "novo_arquivo = \"./datasets/dataset_reduzido.csv\"\n",
    "\n",
    "extrair_coluna(arquivo_entrada, colunas_desejadas, novo_arquivo)\n"
   ]
  },
  {
   "cell_type": "code",
   "execution_count": 18,
   "metadata": {},
   "outputs": [],
   "source": [
    "\n",
    "\n",
    "arquivo_entrada = \"./datasets/dataset_reduzido.csv\"\n",
    "df = pd.read_csv(arquivo_entrada)\n",
    "\n",
    "def preprocess_text(text):\n",
    "    # Convertendo letras maiúculas para minúsculas.\n",
    "    text = text.lower()\n",
    "    \n",
    "    # Removendo acentos.\n",
    "    text = ''.join(\n",
    "        char for char in unicodedata.normalize('NFD', text)\n",
    "        if unicodedata.category(char) != 'Mn'\n",
    "    )\n",
    "    # Removendo pontuações.\n",
    "    text = text.translate(str.maketrans('', '', string.punctuation))\n",
    "    \n",
    "    # Removendo stopwords\n",
    "    text = ' '.join([word for word in text.split() if word not in stop_words])\n",
    "    \n",
    "    return text\n",
    "\n",
    "\n",
    "stop_words = set(stopwords.words('portuguese'))\n",
    "# Lista de colunas que serão pré-processadas\n",
    "colunas_texto = ['product_name', 'overall_rating', 'site_category_lv1', 'site_category_lv2', 'review_text','reviewer_gender','reviewer_state']\n",
    "\n",
    "\n",
    "# Aplicando o pré-processamento em cada coluna de texto\n",
    "for coluna in colunas_texto:\n",
    "    df[coluna] = df[coluna].apply(lambda x: preprocess_text(str(x)))\n",
    "\n",
    "# Salvando o DataFrame pré-processado em um novo arquivo CSV\n",
    "df.to_csv('./datasets/dataset_preprocessed.csv', index=False)\n"
   ]
  }
 ],
 "metadata": {
  "kernelspec": {
   "display_name": "ambvirtual",
   "language": "python",
   "name": "python3"
  },
  "language_info": {
   "codemirror_mode": {
    "name": "ipython",
    "version": 3
   },
   "file_extension": ".py",
   "mimetype": "text/x-python",
   "name": "python",
   "nbconvert_exporter": "python",
   "pygments_lexer": "ipython3",
   "version": "3.12.5"
  }
 },
 "nbformat": 4,
 "nbformat_minor": 2
}
